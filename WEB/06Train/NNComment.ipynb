{
 "cells": [
  {
   "cell_type": "code",
   "execution_count": 2,
   "id": "121154ba-99ea-4fb8-97a9-cf76dbe5e4b6",
   "metadata": {},
   "outputs": [
    {
     "name": "stdout",
     "output_type": "stream",
     "text": [
      "Collecting selenium\n",
      "  Downloading selenium-4.10.0-py3-none-any.whl (6.7 MB)\n",
      "     ---------------------------------------- 6.7/6.7 MB 1.2 MB/s eta 0:00:00\n",
      "Requirement already satisfied: urllib3[socks]<3,>=1.26 in c:\\users\\mj2gr\\anaconda3\\envs\\kivymd\\lib\\site-packages (from selenium) (2.0.3)\n",
      "Collecting trio~=0.17 (from selenium)\n",
      "  Downloading trio-0.22.0-py3-none-any.whl (384 kB)\n",
      "     -------------------------------------- 384.9/384.9 kB 1.3 MB/s eta 0:00:00\n",
      "Collecting trio-websocket~=0.9 (from selenium)\n",
      "  Downloading trio_websocket-0.10.3-py3-none-any.whl (17 kB)\n",
      "Requirement already satisfied: certifi>=2021.10.8 in c:\\users\\mj2gr\\anaconda3\\envs\\kivymd\\lib\\site-packages (from selenium) (2023.5.7)\n",
      "Requirement already satisfied: attrs>=19.2.0 in c:\\users\\mj2gr\\anaconda3\\envs\\kivymd\\lib\\site-packages (from trio~=0.17->selenium) (23.1.0)\n",
      "Collecting sortedcontainers (from trio~=0.17->selenium)\n",
      "  Downloading sortedcontainers-2.4.0-py2.py3-none-any.whl (29 kB)\n",
      "Collecting async-generator>=1.9 (from trio~=0.17->selenium)\n",
      "  Downloading async_generator-1.10-py3-none-any.whl (18 kB)\n",
      "Requirement already satisfied: idna in c:\\users\\mj2gr\\anaconda3\\envs\\kivymd\\lib\\site-packages (from trio~=0.17->selenium) (3.4)\n",
      "Collecting outcome (from trio~=0.17->selenium)\n",
      "  Downloading outcome-1.2.0-py2.py3-none-any.whl (9.7 kB)\n",
      "Requirement already satisfied: sniffio in c:\\users\\mj2gr\\anaconda3\\envs\\kivymd\\lib\\site-packages (from trio~=0.17->selenium) (1.3.0)\n",
      "Requirement already satisfied: cffi>=1.14 in c:\\users\\mj2gr\\anaconda3\\envs\\kivymd\\lib\\site-packages (from trio~=0.17->selenium) (1.15.1)\n",
      "Requirement already satisfied: exceptiongroup>=1.0.0rc9 in c:\\users\\mj2gr\\anaconda3\\envs\\kivymd\\lib\\site-packages (from trio~=0.17->selenium) (1.1.1)\n",
      "Collecting wsproto>=0.14 (from trio-websocket~=0.9->selenium)\n",
      "  Downloading wsproto-1.2.0-py3-none-any.whl (24 kB)\n",
      "Requirement already satisfied: pysocks!=1.5.7,<2.0,>=1.5.6 in c:\\users\\mj2gr\\anaconda3\\envs\\kivymd\\lib\\site-packages (from urllib3[socks]<3,>=1.26->selenium) (1.7.1)\n",
      "Requirement already satisfied: pycparser in c:\\users\\mj2gr\\anaconda3\\envs\\kivymd\\lib\\site-packages (from cffi>=1.14->trio~=0.17->selenium) (2.21)\n",
      "Collecting h11<1,>=0.9.0 (from wsproto>=0.14->trio-websocket~=0.9->selenium)\n",
      "  Downloading h11-0.14.0-py3-none-any.whl (58 kB)\n",
      "     ---------------------------------------- 58.3/58.3 kB 1.5 MB/s eta 0:00:00\n",
      "Installing collected packages: sortedcontainers, outcome, h11, async-generator, wsproto, trio, trio-websocket, selenium\n",
      "Successfully installed async-generator-1.10 h11-0.14.0 outcome-1.2.0 selenium-4.10.0 sortedcontainers-2.4.0 trio-0.22.0 trio-websocket-0.10.3 wsproto-1.2.0\n"
     ]
    }
   ],
   "source": [
    "!pip install selenium"
   ]
  },
  {
   "cell_type": "code",
   "execution_count": 32,
   "id": "7c5ead42-98df-4da6-ba29-7bfa8def6ec1",
   "metadata": {},
   "outputs": [],
   "source": [
    "import time\n",
    "import pandas as pd\n",
    "from bs4 import BeautifulSoup\n",
    "\n",
    "from selenium import webdriver\n",
    "from selenium.webdriver.chrome.service import Service\n",
    "\n",
    "import warnings\n",
    "warnings.filterwarnings('ignore')"
   ]
  },
  {
   "cell_type": "code",
   "execution_count": 49,
   "id": "655a1d38-7fd3-4d59-8c5a-470d2f09280d",
   "metadata": {},
   "outputs": [
    {
     "name": "stderr",
     "output_type": "stream",
     "text": [
      "Incompatible release of chromedriver (version 114.0.5735.16) detected in PATH: C:\\Users\\mj2gr\\06Train\\chromedriver.exe\n"
     ]
    }
   ],
   "source": [
    "service = Service(executable_path=\"PATH_TO_DRIVER\")\n",
    "options = webdriver.ChromeOptions()\n",
    "driver = webdriver.Chrome(service=service, options=options) \n",
    "\n",
    "# 네이버 기사 댓글 페이지로 이동\n",
    "url = 'https://n.news.naver.com/mnews/article/119/0002722734'\n",
    "driver.get(url)\n",
    "\n",
    "time.sleep(3)\n",
    "\n",
    "# 댓글 모두 보기 버튼 클릭\n",
    "show_more_btn = driver.find_element(\"class name\", \"u_cbox_in_view_comment\")\n",
    "show_more_btn.click()"
   ]
  },
  {
   "cell_type": "code",
   "execution_count": 50,
   "id": "2f31b1c8-c1d7-49d3-912d-13fa10dddf4a",
   "metadata": {},
   "outputs": [],
   "source": [
    "# 페이지 로딩을 위한 잠시 대기\n",
    "time.sleep(3)\n",
    "\n",
    "# 페이지 하단으로 이동\n",
    "html = driver.find_element(\"tag name\", \"html\")\n",
    "#html.send_keys(Keys.END)\n",
    "html.send_keys()"
   ]
  },
  {
   "cell_type": "code",
   "execution_count": 51,
   "id": "37a3b252-7ba4-4ac1-a36b-453729d0ceeb",
   "metadata": {},
   "outputs": [
    {
     "name": "stdout",
     "output_type": "stream",
     "text": [
      "[]\n"
     ]
    },
    {
     "ename": "TypeError",
     "evalue": "to_excel() got an unexpected keyword argument 'encoding'",
     "output_type": "error",
     "traceback": [
      "\u001b[1;31m---------------------------------------------------------------------------\u001b[0m",
      "\u001b[1;31mTypeError\u001b[0m                                 Traceback (most recent call last)",
      "Cell \u001b[1;32mIn[51], line 16\u001b[0m\n\u001b[0;32m     14\u001b[0m \u001b[38;5;66;03m# 데이터프레임 생성 및 엑셀로 저장\u001b[39;00m\n\u001b[0;32m     15\u001b[0m df \u001b[38;5;241m=\u001b[39m pd\u001b[38;5;241m.\u001b[39mDataFrame(data, columns\u001b[38;5;241m=\u001b[39m[\u001b[38;5;124m'\u001b[39m\u001b[38;5;124m작성자\u001b[39m\u001b[38;5;124m'\u001b[39m, \u001b[38;5;124m'\u001b[39m\u001b[38;5;124m작성일\u001b[39m\u001b[38;5;124m'\u001b[39m, \u001b[38;5;124m'\u001b[39m\u001b[38;5;124m댓글 내용\u001b[39m\u001b[38;5;124m'\u001b[39m])\n\u001b[1;32m---> 16\u001b[0m \u001b[43mdf\u001b[49m\u001b[38;5;241;43m.\u001b[39;49m\u001b[43mto_excel\u001b[49m\u001b[43m(\u001b[49m\u001b[38;5;124;43m'\u001b[39;49m\u001b[38;5;124;43m댓글.xlsx\u001b[39;49m\u001b[38;5;124;43m'\u001b[39;49m\u001b[43m,\u001b[49m\u001b[43m \u001b[49m\u001b[43mindex\u001b[49m\u001b[38;5;241;43m=\u001b[39;49m\u001b[38;5;28;43;01mFalse\u001b[39;49;00m\u001b[43m,\u001b[49m\u001b[43m \u001b[49m\u001b[43mencoding\u001b[49m\u001b[38;5;241;43m=\u001b[39;49m\u001b[38;5;124;43m'\u001b[39;49m\u001b[38;5;124;43mutf-8\u001b[39;49m\u001b[38;5;124;43m'\u001b[39;49m\u001b[43m)\u001b[49m\n\u001b[0;32m     18\u001b[0m driver\u001b[38;5;241m.\u001b[39mquit()\n",
      "\u001b[1;31mTypeError\u001b[0m: to_excel() got an unexpected keyword argument 'encoding'"
     ]
    }
   ],
   "source": [
    "# 댓글 데이터 수집\n",
    "html = driver.page_source\n",
    "soup = BeautifulSoup(html, 'html.parser')\n",
    "comments = soup.select('.u_cbox_area .u_cbox_comment')\n",
    "\n",
    "data = []\n",
    "for comment in comments:\n",
    "    author = comment.select_one('.u_cbox_nick').get_text()\n",
    "    date = comment.select_one('.u_cbox_date').get_text()\n",
    "    content = comment.select_one('.u_cbox_contents').get_text()\n",
    "    data.append([author, date, content])\n",
    "\n",
    "print(data)\n",
    "# 데이터프레임 생성 및 엑셀로 저장\n",
    "df = pd.DataFrame(data, columns=['작성자', '작성일', '댓글 내용'])\n",
    "df.to_excel('댓글.xlsx', index=False)\n",
    "\n",
    "driver.quit()"
   ]
  },
  {
   "cell_type": "code",
   "execution_count": null,
   "id": "03f2c46d-8d49-4fbf-b7a7-57277e42b0cf",
   "metadata": {},
   "outputs": [],
   "source": []
  }
 ],
 "metadata": {
  "kernelspec": {
   "display_name": "Python 3 (ipykernel)",
   "language": "python",
   "name": "python3"
  },
  "language_info": {
   "codemirror_mode": {
    "name": "ipython",
    "version": 3
   },
   "file_extension": ".py",
   "mimetype": "text/x-python",
   "name": "python",
   "nbconvert_exporter": "python",
   "pygments_lexer": "ipython3",
   "version": "3.9.7"
  }
 },
 "nbformat": 4,
 "nbformat_minor": 5
}
