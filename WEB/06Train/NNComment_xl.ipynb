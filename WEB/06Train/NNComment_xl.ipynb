{
 "cells": [
  {
   "cell_type": "code",
   "execution_count": 7,
   "id": "7c5ead42-98df-4da6-ba29-7bfa8def6ec1",
   "metadata": {},
   "outputs": [],
   "source": [
    "import time\n",
    "import pandas as pd\n",
    "from bs4 import BeautifulSoup\n",
    "\n",
    "from selenium import webdriver\n",
    "from selenium.webdriver.chrome.service import Service\n",
    "\n",
    "import warnings\n",
    "warnings.filterwarnings('ignore')\n",
    "\n",
    "#from selenium.webdriver.common.keys import Keys\n",
    "from openpyxl import Workbook"
   ]
  },
  {
   "cell_type": "code",
   "execution_count": 8,
   "id": "655a1d38-7fd3-4d59-8c5a-470d2f09280d",
   "metadata": {},
   "outputs": [
    {
     "name": "stderr",
     "output_type": "stream",
     "text": [
      "Incompatible release of chromedriver (version 114.0.5735.16) detected in PATH: C:\\Users\\mj2gr\\06Train\\chromedriver.exe\n"
     ]
    }
   ],
   "source": [
    "service = Service(executable_path=\"PATH_TO_DRIVER\")\n",
    "options = webdriver.ChromeOptions()\n",
    "driver = webdriver.Chrome(service=service, options=options) \n",
    "\n",
    "# 네이버 기사 댓글 페이지로 이동\n",
    "url = 'https://n.news.naver.com/mnews/article/119/0002722734'\n",
    "driver.get(url)\n",
    "\n",
    "time.sleep(3)\n",
    "\n",
    "# 댓글 모두 보기 버튼 클릭\n",
    "show_more_btn = driver.find_element(\"class name\", \"u_cbox_in_view_comment\")\n",
    "show_more_btn.click()"
   ]
  },
  {
   "cell_type": "code",
   "execution_count": 9,
   "id": "2f31b1c8-c1d7-49d3-912d-13fa10dddf4a",
   "metadata": {},
   "outputs": [],
   "source": [
    "# 페이지 로딩을 위한 잠시 대기\n",
    "time.sleep(3)\n",
    "\n",
    "# 페이지 하단으로 이동\n",
    "html = driver.find_element(\"tag name\", \"html\")\n",
    "#html.send_keys(Keys.END)\n",
    "html.send_keys()"
   ]
  },
  {
   "cell_type": "code",
   "execution_count": 10,
   "id": "37a3b252-7ba4-4ac1-a36b-453729d0ceeb",
   "metadata": {},
   "outputs": [
    {
     "name": "stdout",
     "output_type": "stream",
     "text": [
      "댓글데이터 :  []\n"
     ]
    }
   ],
   "source": [
    "# 댓글 데이터 수집\n",
    "html = driver.page_source\n",
    "soup = BeautifulSoup(html, 'html.parser')\n",
    "comments = soup.select('.u_cbox_area .u_cbox_comment')\n",
    "\n",
    "data = []\n",
    "for comment in comments:\n",
    "    author = comment.select_one('.u_cbox_nick').get_text()\n",
    "    date = comment.select_one('.u_cbox_date').get_text()\n",
    "    content = comment.select_one('.u_cbox_contents').get_text()\n",
    "    data.append([author, date, content])\n",
    "\n",
    "print('댓글데이터 : ',data)\n",
    "# 엑셀로 저장\n",
    "wb = Workbook()\n",
    "ws = wb.active\n",
    "\n",
    "# 헤더 쓰기\n",
    "ws.append(['작성자', '작성일', '댓글 내용'])\n",
    "\n",
    "# 데이터 쓰기\n",
    "for row in data:\n",
    "    ws.append(row)\n",
    "\n",
    "# 파일 저장\n",
    "wb.save('댓글.xlsx')\n",
    "\n",
    "driver.quit()"
   ]
  }
 ],
 "metadata": {
  "kernelspec": {
   "display_name": "Python 3 (ipykernel)",
   "language": "python",
   "name": "python3"
  },
  "language_info": {
   "codemirror_mode": {
    "name": "ipython",
    "version": 3
   },
   "file_extension": ".py",
   "mimetype": "text/x-python",
   "name": "python",
   "nbconvert_exporter": "python",
   "pygments_lexer": "ipython3",
   "version": "3.9.7"
  }
 },
 "nbformat": 4,
 "nbformat_minor": 5
}
